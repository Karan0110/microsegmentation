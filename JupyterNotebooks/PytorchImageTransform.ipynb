{
 "cells": [
  {
   "cell_type": "code",
   "execution_count": 1,
   "metadata": {},
   "outputs": [],
   "source": [
    "import torch\n",
    "from torchvision import transforms\n",
    "\n",
    "from PIL import Image"
   ]
  },
  {
   "cell_type": "code",
   "execution_count": 12,
   "metadata": {},
   "outputs": [],
   "source": [
    "# Load your image\n",
    "image = Image.open('/Users/karan/MTData/SimulatedData/Control/image-983.png')\n",
    "\n",
    "# Convert the image to a tensor\n",
    "image_tensor = transforms.ToTensor()(image)\n",
    "\n",
    "# Apply the elastic transform\n",
    "elastic_transform = transforms.ElasticTransform(alpha=20., sigma=3.)\n",
    "transformed_image = elastic_transform(image_tensor)\n",
    "\n",
    "# Convert back to PIL Image for visualization\n",
    "transformed_image_pil = transforms.ToPILImage()(transformed_image)\n",
    "transformed_image_pil.show()"
   ]
  }
 ],
 "metadata": {
  "kernelspec": {
   "display_name": "base",
   "language": "python",
   "name": "python3"
  },
  "language_info": {
   "codemirror_mode": {
    "name": "ipython",
    "version": 3
   },
   "file_extension": ".py",
   "mimetype": "text/x-python",
   "name": "python",
   "nbconvert_exporter": "python",
   "pygments_lexer": "ipython3",
   "version": "3.11.5"
  }
 },
 "nbformat": 4,
 "nbformat_minor": 2
}
