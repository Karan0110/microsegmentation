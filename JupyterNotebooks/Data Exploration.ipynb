{
 "cells": [
  {
   "cell_type": "markdown",
   "id": "71942370",
   "metadata": {},
   "source": [
    "# File Types"
   ]
  },
  {
   "cell_type": "code",
   "execution_count": 1,
   "id": "42305033",
   "metadata": {},
   "outputs": [
    {
     "name": "stdout",
     "output_type": "stream",
     "text": [
      "Unique file types:\n",
      "No extension\n",
      ".png\n",
      ".meta\n",
      ".txt\n",
      ".docx\n",
      ".py\n",
      ".tif\n",
      ".ipynb\n",
      ".gz\n",
      ".pptx\n",
      ".html\n",
      ".pdf\n"
     ]
    }
   ],
   "source": [
    "import os\n",
    "\n",
    "def get_unique_filetypes(directory):\n",
    "    filetypes = set()\n",
    "\n",
    "    # Walk through the directory\n",
    "    for root, _, files in os.walk(directory):\n",
    "        for file in files:\n",
    "            # Get the file extension and add it to the set\n",
    "            _, extension = os.path.splitext(file)\n",
    "            filetypes.add(extension.lower())\n",
    "\n",
    "    return filetypes\n",
    "\n",
    "# Example usage\n",
    "directory_path = './'\n",
    "unique_filetypes = get_unique_filetypes(directory_path)\n",
    "\n",
    "print(\"Unique file types:\")\n",
    "for filetype in unique_filetypes:\n",
    "    print(filetype if filetype else \"No extension\")"
   ]
  },
  {
   "cell_type": "markdown",
   "id": "cd2da918",
   "metadata": {},
   "source": [
    "# Image Dimensions"
   ]
  },
  {
   "cell_type": "code",
   "execution_count": 2,
   "id": "d9555379",
   "metadata": {},
   "outputs": [
    {
     "name": "stdout",
     "output_type": "stream",
     "text": [
      "Unique image dimensions:\n",
      "(14, 3, 104, 689)\n",
      "(260, 940, 3)\n",
      "(162, 1020)\n",
      "(260, 941, 3)\n",
      "(14, 3, 91, 563)\n",
      "(10, 3, 107, 762)\n",
      "(789, 943, 3)\n",
      "(14, 3, 109, 731)\n",
      "(12, 3, 110, 697)\n",
      "(155, 1025)\n",
      "(13, 3, 162, 1020)\n",
      "(14, 3, 93, 634)\n",
      "(18, 3, 89, 737)\n",
      "(789, 1339, 3)\n",
      "(14, 3, 76, 611)\n",
      "(260, 942, 3)\n",
      "(14, 3, 172, 848)\n",
      "(11, 3, 113, 728)\n",
      "\n",
      "2D image dimensions:\n",
      "(104, 689)\n",
      "(260, 940)\n",
      "(162, 1020)\n",
      "(260, 941)\n",
      "(91, 563)\n",
      "(107, 762)\n",
      "(789, 943)\n",
      "(109, 731)\n",
      "(110, 697)\n",
      "(155, 1025)\n",
      "(162, 1020)\n",
      "(93, 634)\n",
      "(89, 737)\n",
      "(789, 1339)\n",
      "(76, 611)\n",
      "(260, 942)\n",
      "(172, 848)\n",
      "(113, 728)\n"
     ]
    }
   ],
   "source": [
    "import os\n",
    "import numpy as np\n",
    "from PIL import Image\n",
    "import tifffile as tiff\n",
    "\n",
    "def get_image_dimensions(directory):\n",
    "    dimensions = set()\n",
    "\n",
    "    # Walk through the directory\n",
    "    for root, _, files in os.walk(directory):\n",
    "        for file in files:\n",
    "            if file.lower().endswith('.png'):\n",
    "                file_path = os.path.join(root, file)\n",
    "                try:\n",
    "                    with Image.open(file_path) as img:\n",
    "                        array = np.array(img)\n",
    "                        dimensions.add(array.shape)\n",
    "                        \n",
    "                except Exception as e:\n",
    "                    print(f\"Could not process file {file_path}: {e}\")\n",
    "\n",
    "            elif file.lower().endswith(('.tif', '.tiff')):\n",
    "                file_path = os.path.join(root, file)\n",
    "                try:\n",
    "                    with tiff.TiffFile(file_path) as img:\n",
    "                        array = img.asarray()\n",
    "                        dimensions.add(array.shape)\n",
    "                        \n",
    "                except Exception as e:\n",
    "                    print(f\"Could not process file {file_path}: {e}\")\n",
    "\n",
    "    return dimensions\n",
    "\n",
    "# Example usage\n",
    "directory_path = './'\n",
    "unique_dimensions = get_image_dimensions(directory_path)\n",
    "\n",
    "print(\"Unique image dimensions:\")\n",
    "for dim in unique_dimensions:\n",
    "    print(dim)\n",
    "    \n",
    "print(\"\\n2D image dimensions:\")\n",
    "for dim in unique_dimensions:\n",
    "    print(tuple(filter(lambda x: x >= 30, dim)))\n",
    "    "
   ]
  },
  {
   "cell_type": "markdown",
   "id": "72db7855",
   "metadata": {},
   "source": [
    "All the 2D images have height <= **172** (the exceptions of sizes (789,1339) and (789, 943) are outputs from tubulaton which aren't cropped yet)\n",
    "\n",
    "So we can make the net take inputs of size **256 x 256** (to allow for higher resolution data later on)"
   ]
  },
  {
   "cell_type": "code",
   "execution_count": 16,
   "id": "4cc9444a",
   "metadata": {},
   "outputs": [
    {
     "name": "stdout",
     "output_type": "stream",
     "text": [
      "Processed images are saved in /Users/Karan/Microtubules/ExperimentalIndividualImages/Control-Processed\n"
     ]
    }
   ],
   "source": [
    "import os\n",
    "from PIL import Image\n",
    "import numpy as np\n",
    "\n",
    "def create_processed_folder(original_folder):\n",
    "    base_dir = os.path.dirname(original_folder)\n",
    "    new_folder = os.path.join(base_dir, os.path.basename(original_folder) + '-Processed')\n",
    "    if not os.path.exists(new_folder):\n",
    "        os.makedirs(new_folder)\n",
    "    return new_folder\n",
    "\n",
    "def process_image(image_path, output_path):\n",
    "    # Open the image\n",
    "    with Image.open(image_path) as img:\n",
    "        # Convert image to numpy array\n",
    "        img_array = np.array(img).astype(float)\n",
    "\n",
    "        # Linearly rescale to make the brightest pixels have intensity 255\n",
    "        img_min = img_array.min()\n",
    "        img_max = img_array.max()\n",
    "        img_rescaled = 255. * (img_array - img_min) / (img_max - img_min)\n",
    "        img_rescaled = img_rescaled.astype(np.uint8)\n",
    "\n",
    "        # Convert numpy array back to image\n",
    "        img_processed = Image.fromarray(img_rescaled)\n",
    "\n",
    "        # Save the processed image\n",
    "        img_processed.save(output_path)\n",
    "\n",
    "def process_images_in_folder(original_folder, processed_folder):\n",
    "    for root, _, files in os.walk(original_folder):\n",
    "        for file in files:\n",
    "            if file.lower().endswith('.png'):\n",
    "                original_file_path = os.path.join(root, file)\n",
    "                relative_path = os.path.relpath(root, original_folder)\n",
    "                processed_file_dir = os.path.join(processed_folder, relative_path)\n",
    "                \n",
    "                if not os.path.exists(processed_file_dir):\n",
    "                    os.makedirs(processed_file_dir)\n",
    "                \n",
    "                processed_file_path = os.path.join(processed_file_dir, file)\n",
    "                process_image(original_file_path, processed_file_path)\n",
    "\n",
    "# Define paths\n",
    "original_folder = '/Users/Karan/Microtubules/ExperimentalIndividualImages/Control'\n",
    "processed_folder = create_processed_folder(original_folder)\n",
    "\n",
    "# Process the images\n",
    "process_images_in_folder(original_folder, processed_folder)\n",
    "\n",
    "print(f\"Processed images are saved in {processed_folder}\")"
   ]
  }
 ],
 "metadata": {
  "kernelspec": {
   "display_name": "Python 3 (ipykernel)",
   "language": "python",
   "name": "python3"
  },
  "language_info": {
   "codemirror_mode": {
    "name": "ipython",
    "version": 3
   },
   "file_extension": ".py",
   "mimetype": "text/x-python",
   "name": "python",
   "nbconvert_exporter": "python",
   "pygments_lexer": "ipython3",
   "version": "3.11.5"
  }
 },
 "nbformat": 4,
 "nbformat_minor": 5
}
