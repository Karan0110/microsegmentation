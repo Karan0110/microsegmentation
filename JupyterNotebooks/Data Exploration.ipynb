{
 "cells": [
  {
   "cell_type": "markdown",
   "id": "71942370",
   "metadata": {},
   "source": [
    "# File Types"
   ]
  },
  {
   "cell_type": "code",
   "execution_count": 1,
   "id": "42305033",
   "metadata": {},
   "outputs": [
    {
     "name": "stdout",
     "output_type": "stream",
     "text": [
      "Unique file types:\n",
      "No extension\n",
      ".png\n",
      ".meta\n",
      ".txt\n",
      ".docx\n",
      ".py\n",
      ".tif\n",
      ".ipynb\n",
      ".gz\n",
      ".pptx\n",
      ".html\n",
      ".pdf\n"
     ]
    }
   ],
   "source": [
    "import os\n",
    "\n",
    "def get_unique_filetypes(directory):\n",
    "    filetypes = set()\n",
    "\n",
    "    # Walk through the directory\n",
    "    for root, _, files in os.walk(directory):\n",
    "        for file in files:\n",
    "            # Get the file extension and add it to the set\n",
    "            _, extension = os.path.splitext(file)\n",
    "            filetypes.add(extension.lower())\n",
    "\n",
    "    return filetypes\n",
    "\n",
    "# Example usage\n",
    "directory_path = './'\n",
    "unique_filetypes = get_unique_filetypes(directory_path)\n",
    "\n",
    "print(\"Unique file types:\")\n",
    "for filetype in unique_filetypes:\n",
    "    print(filetype if filetype else \"No extension\")"
   ]
  },
  {
   "cell_type": "markdown",
   "id": "cd2da918",
   "metadata": {},
   "source": [
    "# Image Dimensions"
   ]
  },
  {
   "cell_type": "code",
   "execution_count": 2,
   "id": "d9555379",
   "metadata": {},
   "outputs": [
    {
     "name": "stdout",
     "output_type": "stream",
     "text": [
      "Unique image dimensions:\n",
      "(14, 3, 104, 689)\n",
      "(260, 940, 3)\n",
      "(162, 1020)\n",
      "(260, 941, 3)\n",
      "(14, 3, 91, 563)\n",
      "(10, 3, 107, 762)\n",
      "(789, 943, 3)\n",
      "(14, 3, 109, 731)\n",
      "(12, 3, 110, 697)\n",
      "(155, 1025)\n",
      "(13, 3, 162, 1020)\n",
      "(14, 3, 93, 634)\n",
      "(18, 3, 89, 737)\n",
      "(789, 1339, 3)\n",
      "(14, 3, 76, 611)\n",
      "(260, 942, 3)\n",
      "(14, 3, 172, 848)\n",
      "(11, 3, 113, 728)\n",
      "\n",
      "2D image dimensions:\n",
      "(104, 689)\n",
      "(260, 940)\n",
      "(162, 1020)\n",
      "(260, 941)\n",
      "(91, 563)\n",
      "(107, 762)\n",
      "(789, 943)\n",
      "(109, 731)\n",
      "(110, 697)\n",
      "(155, 1025)\n",
      "(162, 1020)\n",
      "(93, 634)\n",
      "(89, 737)\n",
      "(789, 1339)\n",
      "(76, 611)\n",
      "(260, 942)\n",
      "(172, 848)\n",
      "(113, 728)\n"
     ]
    }
   ],
   "source": [
    "import os\n",
    "import numpy as np\n",
    "from PIL import Image\n",
    "import tifffile as tiff\n",
    "\n",
    "def get_image_dimensions(directory):\n",
    "    dimensions = set()\n",
    "\n",
    "    # Walk through the directory\n",
    "    for root, _, files in os.walk(directory):\n",
    "        for file in files:\n",
    "            if file.lower().endswith('.png'):\n",
    "                file_path = os.path.join(root, file)\n",
    "                try:\n",
    "                    with Image.open(file_path) as img:\n",
    "                        array = np.array(img)\n",
    "                        dimensions.add(array.shape)\n",
    "                        \n",
    "                except Exception as e:\n",
    "                    print(f\"Could not process file {file_path}: {e}\")\n",
    "\n",
    "            elif file.lower().endswith(('.tif', '.tiff')):\n",
    "                file_path = os.path.join(root, file)\n",
    "                try:\n",
    "                    with tiff.TiffFile(file_path) as img:\n",
    "                        array = img.asarray()\n",
    "                        dimensions.add(array.shape)\n",
    "                        \n",
    "                except Exception as e:\n",
    "                    print(f\"Could not process file {file_path}: {e}\")\n",
    "\n",
    "    return dimensions\n",
    "\n",
    "# Example usage\n",
    "directory_path = './'\n",
    "unique_dimensions = get_image_dimensions(directory_path)\n",
    "\n",
    "print(\"Unique image dimensions:\")\n",
    "for dim in unique_dimensions:\n",
    "    print(dim)\n",
    "    \n",
    "print(\"\\n2D image dimensions:\")\n",
    "for dim in unique_dimensions:\n",
    "    print(tuple(filter(lambda x: x >= 30, dim)))\n",
    "    "
   ]
  },
  {
   "cell_type": "markdown",
   "id": "72db7855",
   "metadata": {},
   "source": [
    "All the 2D images have height <= **172** (the exceptions of sizes (789,1339) and (789, 943) are outputs from tubulaton which aren't cropped yet)\n",
    "\n",
    "So we can make the net take inputs of size **256 x 256** (to allow for higher resolution data later on)"
   ]
  },
  {
   "cell_type": "markdown",
   "id": "8f1d80a9",
   "metadata": {},
   "source": [
    "# Get average/max intensities of images in folder\n",
    "(i.e. Why can't we just use average image intensity?)"
   ]
  },
  {
   "cell_type": "code",
   "execution_count": 39,
   "id": "ee43b8d3",
   "metadata": {},
   "outputs": [],
   "source": [
    "from typing import Callable\n",
    "\n",
    "from pathlib import Path\n",
    "import os\n",
    "\n",
    "import matplotlib.pyplot as plt\n",
    "\n",
    "import numpy as np\n",
    "\n",
    "from PIL import Image\n",
    "import imageio.v3 as iio\n",
    "import tifffile\n"
   ]
  },
  {
   "cell_type": "code",
   "execution_count": 45,
   "id": "a226a597",
   "metadata": {},
   "outputs": [],
   "source": [
    "# WARNING: CHANGES THE IMAGES!\n",
    "# Rescale intensities\n",
    "\n",
    "# image_dir = Path(\"/Users/karan/MTData/SimulatedData/Control\")\n",
    "# scaling_factor = 2/3  \n",
    "\n",
    "# for filename in os.listdir(image_dir):\n",
    "#     if filename.endswith(\".png\"):\n",
    "#         # Open the image\n",
    "#         img_path = os.path.join(image_dir, filename)\n",
    "#         img = Image.open(img_path).convert(\"L\")\n",
    "\n",
    "#         # Scale the pixel values\n",
    "#         img = img.point(lambda x: min(255, int(x * scaling_factor)))\n",
    "\n",
    "#         # Save the modified image\n",
    "#         img.save(img_path)"
   ]
  },
  {
   "cell_type": "code",
   "execution_count": 46,
   "id": "262578d6",
   "metadata": {},
   "outputs": [],
   "source": [
    "def load_image_to_np(image_path : Path) -> np.ndarray:\n",
    "    # Get the file extension\n",
    "    _, ext = os.path.splitext(image_path)\n",
    "    \n",
    "    # Load image based on file extension\n",
    "    if ext.lower() in ['.png', '.tif']:\n",
    "        image_data = iio.imread(image_path)\n",
    "    elif ext.lower() == '.lsm':\n",
    "        image_data = tifffile.imread(image_path)\n",
    "    else:\n",
    "        raise ValueError(\"Unsupported file format: {}\".format(ext))\n",
    "    \n",
    "    return np.array(image_data)"
   ]
  },
  {
   "cell_type": "code",
   "execution_count": 47,
   "id": "417347a7",
   "metadata": {},
   "outputs": [
    {
     "name": "stdout",
     "output_type": "stream",
     "text": [
      "Control has 118 images\n",
      "Depoly has 118 images\n"
     ]
    },
    {
     "data": {
      "image/png": "[encoded data removed]",
      "text/plain": [
       "<Figure size 640x480 with 1 Axes>"
      ]
     },
     "metadata": {},
     "output_type": "display_data"
    },
    {
     "data": {
      "image/png": "[encoded data removed]",
      "text/plain": [
       "<Figure size 640x480 with 1 Axes>"
      ]
     },
     "metadata": {},
     "output_type": "display_data"
    }
   ],
   "source": [
    "def get_average_intensity(image_file_path : Path) -> float:\n",
    "    image_array = load_image_to_np(image_file_path)\n",
    "    \n",
    "    average_intensity = image_array.mean()\n",
    "\n",
    "    return average_intensity\n",
    "\n",
    "def get_max_intensity(image_file_path : Path) -> float:\n",
    "    image_array = load_image_to_np(image_file_path)\n",
    "    \n",
    "    max_intensity = image_array.max()\n",
    "\n",
    "    return max_intensity\n",
    "\n",
    "def get_intensities_of_dir(data_dir : Path, aggregation : Callable) -> np.ndarray:\n",
    "    file_names = os.listdir(data_dir)\n",
    "\n",
    "    intensities = np.empty(len(file_names))\n",
    "\n",
    "    for i, file_name in enumerate(file_names):\n",
    "        image_file_path = data_dir / file_name\n",
    "        intensities[i] = get_average_intensity(image_file_path)\n",
    "\n",
    "    return intensities\n",
    "\n",
    "base_dir = Path(\"/Users/karan/MTData/SimulatedData\")\n",
    "control_dir = base_dir / 'Control/'\n",
    "depoly_dir = base_dir / 'Depoly'\n",
    "\n",
    "print(f\"Control has {len(os.listdir(control_dir))} images\")\n",
    "print(f\"Depoly has {len(os.listdir(depoly_dir))} images\")\n",
    "\n",
    "average_control_intensities = get_intensities_of_dir(control_dir, get_average_intensity)\n",
    "average_depoly_intensities = get_intensities_of_dir(depoly_dir, get_average_intensity)\n",
    "\n",
    "# Plot histograms\n",
    "plt.hist(average_control_intensities, alpha=0.5, color='blue', label='Control')\n",
    "plt.hist(average_depoly_intensities, alpha=0.5, color='red', label='Depolymerised')\n",
    "\n",
    "# Add labels and legend\n",
    "plt.xlabel('Average Intensity')\n",
    "plt.ylabel('Frequency')\n",
    "plt.title('Average Intensities of Images')\n",
    "plt.legend()\n",
    "\n",
    "# Show plot\n",
    "plt.show()\n",
    "\n",
    "max_control_intensities = get_intensities_of_dir(control_dir, get_max_intensity)\n",
    "max_depoly_intensities = get_intensities_of_dir(depoly_dir, get_max_intensity)\n",
    "\n",
    "# Plot histograms\n",
    "plt.hist(max_control_intensities, alpha=0.5, color='blue', label='Control')\n",
    "plt.hist(max_depoly_intensities, alpha=0.5, color='red', label='Depolymerised')\n",
    "\n",
    "# Add labels and legend\n",
    "plt.xlabel('Max Intensity')\n",
    "plt.ylabel('Frequency')\n",
    "plt.title('Max Intensities of Images')\n",
    "plt.legend()\n",
    "\n",
    "# Show plot\n",
    "plt.show()"
   ]
  },
  {
   "cell_type": "code",
   "execution_count": 48,
   "id": "e760c570",
   "metadata": {},
   "outputs": [
    {
     "name": "stdout",
     "output_type": "stream",
     "text": [
      "Control image has average intensity: 1.442429542541504\n",
      "Depoly image has average intensity: 1.337021827697754\n",
      "Control image has max intensity: 142\n",
      "Depoly image has max intensity: 137\n"
     ]
    }
   ],
   "source": [
    "image_file_path = Path(\"/Users/karan/MTData/Oryzalin/2020_07_17/plant 3 root hairs with 20  OZ.lsm\")\n",
    "\n",
    "image = load_image_to_np(image_file_path)\n",
    "\n",
    "z_slice = 1\n",
    "c_channel = 0\n",
    "\n",
    "control_time = 0\n",
    "depoly_time = 9\n",
    "\n",
    "control_image = image[control_time, z_slice, c_channel, : , :]\n",
    "depoly_image = image[depoly_time, z_slice, c_channel, : , :]\n",
    "\n",
    "print(f\"Control image has average intensity: {control_image.mean()}\")\n",
    "print(f\"Depoly image has average intensity: {depoly_image.mean()}\")\n",
    "\n",
    "print(f\"Control image has max intensity: {control_image.max()}\")\n",
    "print(f\"Depoly image has max intensity: {depoly_image.max()}\")"
   ]
  }
 ],
 "metadata": {
  "kernelspec": {
   "display_name": "Python 3 (ipykernel)",
   "language": "python",
   "name": "python3"
  },
  "language_info": {
   "codemirror_mode": {
    "name": "ipython",
    "version": 3
   },
   "file_extension": ".py",
   "mimetype": "text/x-python",
   "name": "python",
   "nbconvert_exporter": "python",
   "pygments_lexer": "ipython3",
   "version": "3.11.5"
  }
 },
 "nbformat": 4,
 "nbformat_minor": 5
}
